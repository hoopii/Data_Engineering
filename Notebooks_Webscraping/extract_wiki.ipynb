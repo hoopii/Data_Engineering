{
 "cells": [
  {
   "cell_type": "code",
   "execution_count": 1,
   "id": "57f99062",
   "metadata": {},
   "outputs": [],
   "source": [
    "import requests\n",
    "from bs4 import BeautifulSoup"
   ]
  },
  {
   "cell_type": "code",
   "execution_count": 2,
   "id": "8dd17f0e",
   "metadata": {},
   "outputs": [],
   "source": [
    "berlin_wiki = requests.get('https://en.wikipedia.org/wiki/Berlin')"
   ]
  },
  {
   "cell_type": "code",
   "execution_count": 3,
   "id": "8e3a117a",
   "metadata": {},
   "outputs": [
    {
     "data": {
      "text/plain": [
       "200"
      ]
     },
     "execution_count": 3,
     "metadata": {},
     "output_type": "execute_result"
    }
   ],
   "source": [
    "berlin_wiki.status_code"
   ]
  },
  {
   "cell_type": "code",
   "execution_count": 4,
   "id": "7cd09f98",
   "metadata": {},
   "outputs": [],
   "source": [
    "berlin_wiki_html = berlin_wiki.text"
   ]
  },
  {
   "cell_type": "code",
   "execution_count": 5,
   "id": "69d1a62b",
   "metadata": {},
   "outputs": [],
   "source": [
    "# parse the element\n",
    "soup = BeautifulSoup(berlin_wiki_html, 'html.parser')"
   ]
  },
  {
   "cell_type": "code",
   "execution_count": 6,
   "id": "46a4353d",
   "metadata": {},
   "outputs": [
    {
     "data": {
      "text/plain": [
       "'\\xa0Germany'"
      ]
     },
     "execution_count": 6,
     "metadata": {},
     "output_type": "execute_result"
    }
   ],
   "source": [
    "country_text = soup.select('tr.mergedtoprow td.infobox-data')[0].get_text()\n",
    "country_text"
   ]
  },
  {
   "cell_type": "code",
   "execution_count": 7,
   "id": "24aa2d75",
   "metadata": {},
   "outputs": [
    {
     "data": {
      "text/plain": [
       "'Germany'"
      ]
     },
     "execution_count": 7,
     "metadata": {},
     "output_type": "execute_result"
    }
   ],
   "source": [
    "state_text = soup.select('td.infobox-data a')[0].get_text()\n",
    "state_text"
   ]
  },
  {
   "cell_type": "code",
   "execution_count": 8,
   "id": "aaebe3d4",
   "metadata": {},
   "outputs": [],
   "source": [
    "population_data_City = soup.select('td.infobox-data')[8].get_text()\n",
    "population_data_Urban = soup.select('td.infobox-data')[9].get_text()\n",
    "population_data_Metro = soup.select('td.infobox-data')[10].get_text()"
   ]
  },
  {
   "cell_type": "code",
   "execution_count": 13,
   "id": "a5b22ab1",
   "metadata": {},
   "outputs": [
    {
     "name": "stdout",
     "output_type": "stream",
     "text": [
      "\n",
      "Norway\n",
      "Spain\n",
      "France (data)\n",
      "Ukraine\n",
      "Germany\n",
      "Israel\n",
      "United States\n",
      "Japan\n",
      "Czech Republic\n",
      "2\n",
      "Korea\n",
      "Sweden\n",
      "\n"
     ]
    }
   ],
   "source": [
    "table = soup.find('table')\n",
    "rows = table.find_all('tr')\n",
    " \n",
    "for tr in soup.find_all('table'):\n",
    "     tds = tr.find_all('td') \n",
    "       \n",
    "print(tds[1].get_text())"
   ]
  }
 ],
 "metadata": {
  "kernelspec": {
   "display_name": "Python 3 (ipykernel)",
   "language": "python",
   "name": "python3"
  },
  "language_info": {
   "codemirror_mode": {
    "name": "ipython",
    "version": 3
   },
   "file_extension": ".py",
   "mimetype": "text/x-python",
   "name": "python",
   "nbconvert_exporter": "python",
   "pygments_lexer": "ipython3",
   "version": "3.9.13"
  }
 },
 "nbformat": 4,
 "nbformat_minor": 5
}
