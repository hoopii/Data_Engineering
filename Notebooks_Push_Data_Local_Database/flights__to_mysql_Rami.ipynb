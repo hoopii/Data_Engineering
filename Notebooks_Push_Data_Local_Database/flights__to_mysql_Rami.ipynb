{
 "cells": [
  {
   "cell_type": "code",
   "execution_count": 6,
   "metadata": {
    "id": "h9FKm7mrkbqS"
   },
   "outputs": [],
   "source": [
    "import pandas as pd\n",
    "from datetime import datetime, date, timedelta\n",
    "import requests\n",
    "from pytz import timezone"
   ]
  },
  {
   "cell_type": "code",
   "execution_count": 7,
   "metadata": {
    "id": "iuNXcx-oMbX3"
   },
   "outputs": [],
   "source": [
    "def tomorrows_flight_arrivals(icao_list):\n",
    "\n",
    "  today = datetime.now().astimezone(timezone('Europe/Berlin')).date()\n",
    "  tomorrow = (today + timedelta(days=1))\n",
    "\n",
    "  list_for_df = []\n",
    "\n",
    "  for icao in icao_list:\n",
    "    times = [[\"08:00\",\"09:00\"],[\"09:00\",\"12:00\"]]\n",
    "\n",
    "    for time in times:\n",
    "      url = f\"https://aerodatabox.p.rapidapi.com/flights/airports/icao/{icao}/{tomorrow}T{time[0]}/{tomorrow}T{time[1]}\"\n",
    "      querystring = {\"withLeg\":\"true\",\"direction\":\"Arrival\",\"withCancelled\":\"false\",\"withCodeshared\":\"true\",\"withCargo\":\"false\",\"withPrivate\":\"false\"}\n",
    "      headers = {\n",
    "          'x-rapidapi-host': \"aerodatabox.p.rapidapi.com\",\n",
    "          'x-rapidapi-key': \"7fbdfa982amsh465aaeb96e8bac1p1d30aajsn775e582a0a36\"\n",
    "          }\n",
    "      response = requests.request(\"GET\", url, headers=headers, params=querystring)\n",
    "      flights_json = response.json()\n",
    "\n",
    "      for flight in flights_json['arrivals']:\n",
    "        flights_dict = {}\n",
    "        flights_dict['arrival_icao'] = icao\n",
    "        # .get() is another way of ensuring our code doesn't break\n",
    "        # in the previous 2 notebooks you learnt about 'if' (cities) and 'try/except' (weather)\n",
    "        # .get() works similar, it will get the text if possible, if there is no text a None value will be inserted instead\n",
    "        flights_dict['arrival_time_local'] = flight['arrival'].get('scheduledTimeLocal', None)\n",
    "        flights_dict['arrival_terminal'] = flight['arrival'].get('terminal', None)\n",
    "        flights_dict['departure_city'] = flight['departure']['airport'].get('name', None)\n",
    "        flights_dict['departure_icao'] = flight['departure']['airport'].get('icao', None)\n",
    "        flights_dict['departure_time_local'] = flight['departure'].get('scheduledTimeLocal', None)\n",
    "        flights_dict['airline'] = flight['airline'].get('name', None)\n",
    "        flights_dict['flight_number'] = flight.get('number', None)\n",
    "        flights_dict['data_retrieved_on'] = datetime.now().astimezone(timezone('Europe/Berlin')).date()\n",
    "        list_for_df.append(flights_dict)\n",
    "\n",
    "  return pd.DataFrame(list_for_df)"
   ]
  },
  {
   "cell_type": "code",
   "execution_count": 8,
   "metadata": {
    "colab": {
     "base_uri": "https://localhost:8080/",
     "height": 312
    },
    "id": "HHHSrPfmnxEl",
    "outputId": "b90b65ba-a87b-460d-8afc-9dc4c21342fb"
   },
   "outputs": [
    {
     "ename": "KeyError",
     "evalue": "'arrivals'",
     "output_type": "error",
     "traceback": [
      "\u001b[1;31m---------------------------------------------------------------------------\u001b[0m",
      "\u001b[1;31mKeyError\u001b[0m                                  Traceback (most recent call last)",
      "\u001b[1;32m<ipython-input-8-ce4577a030c1>\u001b[0m in \u001b[0;36m<module>\u001b[1;34m\u001b[0m\n\u001b[0;32m      1\u001b[0m \u001b[0micaos\u001b[0m \u001b[1;33m=\u001b[0m \u001b[1;33m[\u001b[0m\u001b[1;34m'EDDL'\u001b[0m\u001b[1;33m,\u001b[0m \u001b[1;34m'EGLL'\u001b[0m\u001b[1;33m]\u001b[0m\u001b[1;33m\u001b[0m\u001b[1;33m\u001b[0m\u001b[0m\n\u001b[1;32m----> 2\u001b[1;33m \u001b[0mtomorrows_flight_arrivals\u001b[0m\u001b[1;33m(\u001b[0m\u001b[0micaos\u001b[0m\u001b[1;33m)\u001b[0m\u001b[1;33m.\u001b[0m\u001b[0mhead\u001b[0m\u001b[1;33m(\u001b[0m\u001b[1;33m)\u001b[0m\u001b[1;33m\u001b[0m\u001b[1;33m\u001b[0m\u001b[0m\n\u001b[0m",
      "\u001b[1;32m<ipython-input-7-20ade7b73ead>\u001b[0m in \u001b[0;36mtomorrows_flight_arrivals\u001b[1;34m(icao_list)\u001b[0m\n\u001b[0;32m     19\u001b[0m       \u001b[0mflights_json\u001b[0m \u001b[1;33m=\u001b[0m \u001b[0mresponse\u001b[0m\u001b[1;33m.\u001b[0m\u001b[0mjson\u001b[0m\u001b[1;33m(\u001b[0m\u001b[1;33m)\u001b[0m\u001b[1;33m\u001b[0m\u001b[1;33m\u001b[0m\u001b[0m\n\u001b[0;32m     20\u001b[0m \u001b[1;33m\u001b[0m\u001b[0m\n\u001b[1;32m---> 21\u001b[1;33m       \u001b[1;32mfor\u001b[0m \u001b[0mflight\u001b[0m \u001b[1;32min\u001b[0m \u001b[0mflights_json\u001b[0m\u001b[1;33m[\u001b[0m\u001b[1;34m'arrivals'\u001b[0m\u001b[1;33m]\u001b[0m\u001b[1;33m:\u001b[0m\u001b[1;33m\u001b[0m\u001b[1;33m\u001b[0m\u001b[0m\n\u001b[0m\u001b[0;32m     22\u001b[0m         \u001b[0mflights_dict\u001b[0m \u001b[1;33m=\u001b[0m \u001b[1;33m{\u001b[0m\u001b[1;33m}\u001b[0m\u001b[1;33m\u001b[0m\u001b[1;33m\u001b[0m\u001b[0m\n\u001b[0;32m     23\u001b[0m         \u001b[0mflights_dict\u001b[0m\u001b[1;33m[\u001b[0m\u001b[1;34m'arrival_icao'\u001b[0m\u001b[1;33m]\u001b[0m \u001b[1;33m=\u001b[0m \u001b[0micao\u001b[0m\u001b[1;33m\u001b[0m\u001b[1;33m\u001b[0m\u001b[0m\n",
      "\u001b[1;31mKeyError\u001b[0m: 'arrivals'"
     ]
    }
   ],
   "source": [
    "icaos = ['EDDL', 'EGLL']\n",
    "tomorrows_flight_arrivals(icaos).head()"
   ]
  },
  {
   "cell_type": "markdown",
   "metadata": {
    "id": "W0G9ZI9MAoMx"
   },
   "source": [
    "# Challenge\n",
    "### 1. Push the weather data extractecd from weather API into mysql table \n",
    "### 2. Test and check your table that the results are there "
   ]
  },
  {
   "cell_type": "code",
   "execution_count": null,
   "metadata": {},
   "outputs": [],
   "source": []
  }
 ],
 "metadata": {
  "colab": {
   "collapsed_sections": [],
   "name": "Copy of flights__making_a_dataframe_example.ipynb",
   "provenance": []
  },
  "kernelspec": {
   "display_name": "Python 3 (ipykernel)",
   "language": "python",
   "name": "python3"
  },
  "language_info": {
   "codemirror_mode": {
    "name": "ipython",
    "version": 3
   },
   "file_extension": ".py",
   "mimetype": "text/x-python",
   "name": "python",
   "nbconvert_exporter": "python",
   "pygments_lexer": "ipython3",
   "version": "3.9.7"
  }
 },
 "nbformat": 4,
 "nbformat_minor": 1
}
