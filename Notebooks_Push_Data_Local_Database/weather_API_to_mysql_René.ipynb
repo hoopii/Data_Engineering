{
 "cells": [
  {
   "cell_type": "code",
   "execution_count": 14,
   "id": "cd4c7b2f",
   "metadata": {},
   "outputs": [
    {
     "name": "stdout",
     "output_type": "stream",
     "text": [
      "Requirement already satisfied: mysql-connector-python in c:\\users\\user\\anaconda3\\lib\\site-packages (8.0.28)\n",
      "Requirement already satisfied: protobuf>=3.0.0 in c:\\users\\user\\anaconda3\\lib\\site-packages (from mysql-connector-python) (4.21.5)\n"
     ]
    }
   ],
   "source": [
    "import pandas as pd\n",
    "!pip install mysql-connector-python\n",
    "import requests\n",
    "import mysql.connector\n",
    "from datetime import datetime"
   ]
  },
  {
   "cell_type": "code",
   "execution_count": 43,
   "id": "e1befb1d",
   "metadata": {},
   "outputs": [],
   "source": [
    "# define connection details\n",
    "cnx = mysql.connector.connect(\n",
    "    user='root',\n",
    "    password='Hoopii123', #type your root password here\n",
    "    host='127.0.0.1', # to connect to your local instance\n",
    "    database='collected_data' #type the name of the database you want to use here\n",
    ")"
   ]
  },
  {
   "cell_type": "code",
   "execution_count": 29,
   "id": "be85a094",
   "metadata": {},
   "outputs": [],
   "source": [
    "def get_weather_loop(cities):\n",
    "\n",
    "  API_key = '4fe53ee5e34a7d900ed58bd74bbbb0b7'\n",
    "\n",
    "  for city in cities:\n",
    "    url = (f\"http://api.openweathermap.org/data/2.5/forecast?q={city}&appid={API_key}&units=metric\")\n",
    "    response = requests.get(url)\n",
    "    json = response.json()\n",
    "\n",
    "    for i in json['list']:\n",
    "      id = 0\n",
    "      city = json['city']['name']    \n",
    "      forecast_time = i['dt_txt']\n",
    "      forecast_time = datetime.strptime(forecast_time, '%Y-%m-%d %X')\n",
    "      outlook = i['weather'][0]['main']\n",
    "      temperature = i['main']['temp']\n",
    "      temperature_feels_like = i['main']['feels_like']\n",
    "      try:\n",
    "          rain = i['rain']['3h']\n",
    "      except:\n",
    "          rain = '0'\n",
    "      wind_speed = i['wind']['speed']\n",
    "    \n",
    "      data_to_push = (id, city, forecast_time, outlook, temperature, temperature_feels_like, wind_speed, rain)\n",
    "        \n",
    "      cursor = cnx.cursor()\n",
    "      query = \"\"\"\n",
    "      INSERT INTO weather_data (id, city, forecast_time, outlook, temperature, temperature_feels_like, wind_speed, rain)\n",
    "      VALUES (%s, %s, %s, %s, %s, %s, %s, %s);\n",
    "      \"\"\"\n",
    "      cursor.execute(query, data_to_push)\n",
    "      cnx.commit()"
   ]
  },
  {
   "cell_type": "code",
   "execution_count": 30,
   "id": "68f1db2d",
   "metadata": {},
   "outputs": [],
   "source": [
    "get_weather_loop(['Berlin', 'Frankfurt', 'Hamburg', 'Paris', 'Brussels', 'Moscow', 'Stockholm', 'Madrid', 'Barcelona'])"
   ]
  },
  {
   "cell_type": "code",
   "execution_count": 31,
   "id": "3f57dac2",
   "metadata": {},
   "outputs": [],
   "source": [
    "#these need to be done only once for example if you have a loop these must after the loop\n",
    "cursor = cnx.cursor()\n",
    "cursor.close()\n",
    "cnx.close()"
   ]
  },
  {
   "cell_type": "code",
   "execution_count": 47,
   "id": "d098c433",
   "metadata": {},
   "outputs": [],
   "source": [
    "# try to integrate a city_id: \n",
    "def get_weather_loop_2(cities):\n",
    "\n",
    "  API_key = '4fe53ee5e34a7d900ed58bd74bbbb0b7'\n",
    "\n",
    "  for city in cities:\n",
    "    url = (f\"http://api.openweathermap.org/data/2.5/forecast?q={city}&appid={API_key}&units=metric\")\n",
    "    response = requests.get(url)\n",
    "    json = response.json()\n",
    "    \n",
    "    city_id = 1\n",
    "\n",
    "    for i in json['list']:\n",
    "      id = 0\n",
    "      city = json['city']['name']    \n",
    "      forecast_time = i['dt_txt']\n",
    "      forecast_time = datetime.strptime(forecast_time, '%Y-%m-%d %X')\n",
    "      outlook = i['weather'][0]['main']\n",
    "      temperature = i['main']['temp']\n",
    "      temperature_feels_like = i['main']['feels_like']\n",
    "      try:\n",
    "          rain = i['rain']['3h']\n",
    "      except:\n",
    "          rain = '0'\n",
    "      wind_speed = i['wind']['speed']\n",
    "    \n",
    "      data_to_push = (id, city_id, city, forecast_time, outlook, temperature, temperature_feels_like, wind_speed, rain)\n",
    "        \n",
    "      cursor = cnx.cursor()\n",
    "      query = \"\"\"\n",
    "      INSERT INTO weather_data_id (id, city_id, city, forecast_time, outlook, temperature, temperature_feels_like, wind_speed, rain)\n",
    "      VALUES (%s, %s, %s, %s, %s, %s, %s, %s, %s);\n",
    "      \"\"\"\n",
    "      cursor.execute(query, data_to_push)\n",
    "      cnx.commit()\n",
    "    \n",
    "    city_id += 1\n",
    "    "
   ]
  },
  {
   "cell_type": "code",
   "execution_count": 46,
   "id": "56507f8c",
   "metadata": {},
   "outputs": [
    {
     "ename": "ProgrammingError",
     "evalue": "Not all parameters were used in the SQL statement",
     "output_type": "error",
     "traceback": [
      "\u001b[1;31m---------------------------------------------------------------------------\u001b[0m",
      "\u001b[1;31mProgrammingError\u001b[0m                          Traceback (most recent call last)",
      "\u001b[1;32m~\\AppData\\Local\\Temp/ipykernel_17344/2006957226.py\u001b[0m in \u001b[0;36m<module>\u001b[1;34m\u001b[0m\n\u001b[1;32m----> 1\u001b[1;33m \u001b[0mget_weather_loop_2\u001b[0m\u001b[1;33m(\u001b[0m\u001b[1;33m[\u001b[0m\u001b[1;34m'Berlin'\u001b[0m\u001b[1;33m,\u001b[0m \u001b[1;34m'Frankfurt'\u001b[0m\u001b[1;33m,\u001b[0m \u001b[1;34m'Hamburg'\u001b[0m\u001b[1;33m,\u001b[0m \u001b[1;34m'Paris'\u001b[0m\u001b[1;33m,\u001b[0m \u001b[1;34m'Brussels'\u001b[0m\u001b[1;33m,\u001b[0m \u001b[1;34m'Moscow'\u001b[0m\u001b[1;33m,\u001b[0m \u001b[1;34m'Stockholm'\u001b[0m\u001b[1;33m,\u001b[0m \u001b[1;34m'Madrid'\u001b[0m\u001b[1;33m,\u001b[0m \u001b[1;34m'Barcelona'\u001b[0m\u001b[1;33m]\u001b[0m\u001b[1;33m)\u001b[0m\u001b[1;33m\u001b[0m\u001b[1;33m\u001b[0m\u001b[0m\n\u001b[0m",
      "\u001b[1;32m~\\AppData\\Local\\Temp/ipykernel_17344/2320524822.py\u001b[0m in \u001b[0;36mget_weather_loop_2\u001b[1;34m(cities)\u001b[0m\n\u001b[0;32m     33\u001b[0m       \u001b[0mVALUES\u001b[0m \u001b[1;33m(\u001b[0m\u001b[1;33m%\u001b[0m\u001b[0ms\u001b[0m\u001b[1;33m,\u001b[0m \u001b[1;33m%\u001b[0m\u001b[0ms\u001b[0m\u001b[1;33m,\u001b[0m \u001b[1;33m%\u001b[0m\u001b[0ms\u001b[0m\u001b[1;33m,\u001b[0m \u001b[1;33m%\u001b[0m\u001b[0ms\u001b[0m\u001b[1;33m,\u001b[0m \u001b[1;33m%\u001b[0m\u001b[0ms\u001b[0m\u001b[1;33m,\u001b[0m \u001b[1;33m%\u001b[0m\u001b[0ms\u001b[0m\u001b[1;33m,\u001b[0m \u001b[1;33m%\u001b[0m\u001b[0ms\u001b[0m\u001b[1;33m,\u001b[0m \u001b[1;33m%\u001b[0m\u001b[0ms\u001b[0m\u001b[1;33m)\u001b[0m\u001b[1;33m;\u001b[0m\u001b[1;33m\u001b[0m\u001b[1;33m\u001b[0m\u001b[0m\n\u001b[0;32m     34\u001b[0m       \"\"\"\n\u001b[1;32m---> 35\u001b[1;33m       \u001b[0mcursor\u001b[0m\u001b[1;33m.\u001b[0m\u001b[0mexecute\u001b[0m\u001b[1;33m(\u001b[0m\u001b[0mquery\u001b[0m\u001b[1;33m,\u001b[0m \u001b[0mdata_to_push\u001b[0m\u001b[1;33m)\u001b[0m\u001b[1;33m\u001b[0m\u001b[1;33m\u001b[0m\u001b[0m\n\u001b[0m\u001b[0;32m     36\u001b[0m       \u001b[0mcnx\u001b[0m\u001b[1;33m.\u001b[0m\u001b[0mcommit\u001b[0m\u001b[1;33m(\u001b[0m\u001b[1;33m)\u001b[0m\u001b[1;33m\u001b[0m\u001b[1;33m\u001b[0m\u001b[0m\n\u001b[0;32m     37\u001b[0m \u001b[1;33m\u001b[0m\u001b[0m\n",
      "\u001b[1;32m~\\anaconda3\\lib\\site-packages\\mysql\\connector\\cursor_cext.py\u001b[0m in \u001b[0;36mexecute\u001b[1;34m(self, operation, params, multi)\u001b[0m\n\u001b[0;32m    263\u001b[0m                 \u001b[0mstmt\u001b[0m \u001b[1;33m=\u001b[0m \u001b[0mRE_PY_PARAM\u001b[0m\u001b[1;33m.\u001b[0m\u001b[0msub\u001b[0m\u001b[1;33m(\u001b[0m\u001b[0mpsub\u001b[0m\u001b[1;33m,\u001b[0m \u001b[0mstmt\u001b[0m\u001b[1;33m)\u001b[0m\u001b[1;33m\u001b[0m\u001b[1;33m\u001b[0m\u001b[0m\n\u001b[0;32m    264\u001b[0m                 \u001b[1;32mif\u001b[0m \u001b[0mpsub\u001b[0m\u001b[1;33m.\u001b[0m\u001b[0mremaining\u001b[0m \u001b[1;33m!=\u001b[0m \u001b[1;36m0\u001b[0m\u001b[1;33m:\u001b[0m\u001b[1;33m\u001b[0m\u001b[1;33m\u001b[0m\u001b[0m\n\u001b[1;32m--> 265\u001b[1;33m                     raise errors.ProgrammingError(\n\u001b[0m\u001b[0;32m    266\u001b[0m                         \"Not all parameters were used in the SQL statement\")\n\u001b[0;32m    267\u001b[0m \u001b[1;33m\u001b[0m\u001b[0m\n",
      "\u001b[1;31mProgrammingError\u001b[0m: Not all parameters were used in the SQL statement"
     ]
    }
   ],
   "source": [
    "get_weather_loop_2(['Berlin', 'Frankfurt', 'Hamburg', 'Paris', 'Brussels', 'Moscow', 'Stockholm', 'Madrid', 'Barcelona'])"
   ]
  },
  {
   "cell_type": "code",
   "execution_count": null,
   "id": "c204efbc",
   "metadata": {},
   "outputs": [],
   "source": []
  }
 ],
 "metadata": {
  "kernelspec": {
   "display_name": "Python 3 (ipykernel)",
   "language": "python",
   "name": "python3"
  },
  "language_info": {
   "codemirror_mode": {
    "name": "ipython",
    "version": 3
   },
   "file_extension": ".py",
   "mimetype": "text/x-python",
   "name": "python",
   "nbconvert_exporter": "python",
   "pygments_lexer": "ipython3",
   "version": "3.9.7"
  }
 },
 "nbformat": 4,
 "nbformat_minor": 5
}
