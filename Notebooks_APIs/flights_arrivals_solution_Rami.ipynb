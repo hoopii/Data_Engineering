{
 "cells": [
  {
   "cell_type": "code",
   "execution_count": 22,
   "metadata": {
    "id": "h9FKm7mrkbqS"
   },
   "outputs": [],
   "source": [
    "import pandas as pd\n",
    "from datetime import datetime, date, timedelta\n",
    "import requests\n",
    "from pytz import timezone"
   ]
  },
  {
   "cell_type": "code",
   "execution_count": 25,
   "metadata": {
    "id": "iuNXcx-oMbX3"
   },
   "outputs": [],
   "source": [
    "def tomorrows_flight_arrivals(icao_list):\n",
    "\n",
    "  today = datetime.now().astimezone(timezone('Europe/Berlin')).date()\n",
    "  tomorrow = (today + timedelta(days=1))\n",
    "\n",
    "  list_for_df = []\n",
    "\n",
    "  for icao in icao_list:\n",
    "    times = [[\"00:00\",\"11:59\"],[\"12:00\",\"23:59\"]]\n",
    "\n",
    "    for time in times:\n",
    "      url = f\"https://aerodatabox.p.rapidapi.com/flights/airports/icao/{icao}/{tomorrow}T{time[0]}/{tomorrow}T{time[1]}\"\n",
    "      querystring = {\n",
    "          \"withLeg\":\"true\",\n",
    "          \"direction\":\"Arrival\",\n",
    "          \"withCancelled\":\"false\",\n",
    "          \"withCodeshared\":\"true\",\n",
    "          \"withCargo\":\"false\",\n",
    "          \"withPrivate\":\"false\"\n",
    "          }\n",
    "      headers = {\n",
    "          'x-rapidapi-host': \"aerodatabox.p.rapidapi.com\",\n",
    "          'x-rapidapi-key': \"\"\n",
    "          }\n",
    "      response = requests.request(\"GET\", url, headers=headers, params=querystring)\n",
    "      flights_json = response.json() \n",
    "      flights_dict = {}  \n",
    "      \n",
    "      for flight in response.json()['arrivals']:\n",
    "            flights_dict['arrival_icao'] = icao\n",
    "            flights_dict['arrival_time_local'] = flight['arrival'].get('scheduledTimeLocal', None)\n",
    "            flights_dict['arrival_terminal'] = flight['arrival'].get('terminal', None)\n",
    "            flights_dict['departure_city'] = flight['departure']['airport'].get('name', None)\n",
    "            flights_dict['departure_icao'] = flight['departure']['airport'].get('icao', None)\n",
    "            flights_dict['departure_time_local'] = flight['departure'].get('scheduledTimeLocal', None)\n",
    "            flights_dict['airline'] = flight['airline'].get('name', None)\n",
    "            flights_dict['flight_number'] = flight.get('number', None)\n",
    "            flights_dict['data_retrieved_on'] = datetime.now().astimezone(timezone('Europe/Berlin')).date()\n",
    "            list_for_df.append(flights_dict)\n",
    "            \n",
    "  return pd.DataFrame(list_for_df)"
   ]
  },
  {
   "cell_type": "code",
   "execution_count": 26,
   "metadata": {},
   "outputs": [
    {
     "ename": "KeyError",
     "evalue": "'arrivals'",
     "output_type": "error",
     "traceback": [
      "\u001b[1;31m---------------------------------------------------------------------------\u001b[0m",
      "\u001b[1;31mKeyError\u001b[0m                                  Traceback (most recent call last)",
      "\u001b[1;32m~\\AppData\\Local\\Temp/ipykernel_9616/1624809223.py\u001b[0m in \u001b[0;36m<module>\u001b[1;34m\u001b[0m\n\u001b[0;32m      1\u001b[0m \u001b[0micaos\u001b[0m \u001b[1;33m=\u001b[0m \u001b[1;33m[\u001b[0m\u001b[1;34m'EDDL'\u001b[0m\u001b[1;33m,\u001b[0m \u001b[1;34m'EGLL'\u001b[0m\u001b[1;33m]\u001b[0m\u001b[1;33m\u001b[0m\u001b[1;33m\u001b[0m\u001b[0m\n\u001b[1;32m----> 2\u001b[1;33m \u001b[0mtomorrows_flight_arrivals\u001b[0m\u001b[1;33m(\u001b[0m\u001b[0micaos\u001b[0m\u001b[1;33m)\u001b[0m\u001b[1;33m.\u001b[0m\u001b[0mhead\u001b[0m\u001b[1;33m(\u001b[0m\u001b[1;33m)\u001b[0m\u001b[1;33m\u001b[0m\u001b[1;33m\u001b[0m\u001b[0m\n\u001b[0m",
      "\u001b[1;32m~\\AppData\\Local\\Temp/ipykernel_9616/3142433382.py\u001b[0m in \u001b[0;36mtomorrows_flight_arrivals\u001b[1;34m(icao_list)\u001b[0m\n\u001b[0;32m     27\u001b[0m       \u001b[0mflights_dict\u001b[0m \u001b[1;33m=\u001b[0m \u001b[1;33m{\u001b[0m\u001b[1;33m}\u001b[0m\u001b[1;33m\u001b[0m\u001b[1;33m\u001b[0m\u001b[0m\n\u001b[0;32m     28\u001b[0m \u001b[1;33m\u001b[0m\u001b[0m\n\u001b[1;32m---> 29\u001b[1;33m       \u001b[1;32mfor\u001b[0m \u001b[0mflight\u001b[0m \u001b[1;32min\u001b[0m \u001b[0mresponse\u001b[0m\u001b[1;33m.\u001b[0m\u001b[0mjson\u001b[0m\u001b[1;33m(\u001b[0m\u001b[1;33m)\u001b[0m\u001b[1;33m[\u001b[0m\u001b[1;34m'arrivals'\u001b[0m\u001b[1;33m]\u001b[0m\u001b[1;33m:\u001b[0m\u001b[1;33m\u001b[0m\u001b[1;33m\u001b[0m\u001b[0m\n\u001b[0m\u001b[0;32m     30\u001b[0m             \u001b[0mflights_dict\u001b[0m\u001b[1;33m[\u001b[0m\u001b[1;34m'arrival_icao'\u001b[0m\u001b[1;33m]\u001b[0m \u001b[1;33m=\u001b[0m \u001b[0micao\u001b[0m\u001b[1;33m\u001b[0m\u001b[1;33m\u001b[0m\u001b[0m\n\u001b[0;32m     31\u001b[0m             \u001b[0mflights_dict\u001b[0m\u001b[1;33m[\u001b[0m\u001b[1;34m'arrival_time_local'\u001b[0m\u001b[1;33m]\u001b[0m \u001b[1;33m=\u001b[0m \u001b[0mflight\u001b[0m\u001b[1;33m[\u001b[0m\u001b[1;34m'arrival'\u001b[0m\u001b[1;33m]\u001b[0m\u001b[1;33m.\u001b[0m\u001b[0mget\u001b[0m\u001b[1;33m(\u001b[0m\u001b[1;34m'scheduledTimeLocal'\u001b[0m\u001b[1;33m,\u001b[0m \u001b[1;32mNone\u001b[0m\u001b[1;33m)\u001b[0m\u001b[1;33m\u001b[0m\u001b[1;33m\u001b[0m\u001b[0m\n",
      "\u001b[1;31mKeyError\u001b[0m: 'arrivals'"
     ]
    }
   ],
   "source": [
    "icaos = ['EDDL', 'EGLL']\n",
    "tomorrows_flight_arrivals(icaos).head()"
   ]
  },
  {
   "cell_type": "code",
   "execution_count": 28,
   "metadata": {},
   "outputs": [],
   "source": [
    "import pytz\n",
    "from datetime import datetime\n",
    "\n",
    "def tomorrows_flight_arrivals(icao_list):\n",
    "    tz = pytz.timezone('Europe/Berlin')\n",
    "    today = datetime.now().astimezone(timezone('Europe/Berlin')).date()\n",
    "    tomorrow = (today + timedelta(days=1))\n",
    "\n",
    "    list_for_df = []\n",
    "\n",
    "    times = [[\"00:00\",\"11:59\"],[\"12:00\",\"23:59\"]]\n",
    "\n",
    "    for time in times:\n",
    "        url = f\"https://aerodatabox.p.rapidapi.com/flights/airports/icao/{icao}/{tomorrow}T{time[0]}/{tomorrow}T{time[1]}\"\n",
    "        querystring = {\n",
    "            \"withLeg\":\"true\",\n",
    "            \"direction\":\"Arrival\",\n",
    "            \"withCancelled\":\"false\",\n",
    "            \"withCodeshared\":\"true\",\n",
    "            \"withCargo\":\"false\",\n",
    "            \"withPrivate\":\"false\"\n",
    "            }\n",
    "        headers = {\n",
    "            'x-rapidapi-host': \"aerodatabox.p.rapidapi.com\",\n",
    "            'x-rapidapi-key': \"c6b4a624demsh1de39ecc544205cp17f101jsnbc19313f31cc\"\n",
    "            }\n",
    "        response = requests.request(\"GET\", url, headers=headers, params=querystring)\n",
    "        flights_json = response.json()\n",
    "    \n",
    "        flights_dict = {}\n",
    "    \n",
    "        for flight in flights_json['arrivals']:\n",
    "            # .get() is another way of ensuring our code doesn't break\n",
    "            # in the previous 2 notebooks you learnt about 'if' (cities) and 'try/except' (weather)\n",
    "            # .get() works similar, it will get the text if possible, if there is no text a None value will be inserted instead\n",
    "            flights_dict['arrival_time_local'] = flight['arrival'].get('scheduledTimeLocal', None)\n",
    "            flights_dict['arrival_terminal'] = flight['arrival'].get('terminal', None)\n",
    "            flights_dict['departure_city'] = flight['departure']['airport'].get('name', None)\n",
    "            flights_dict['departure_icao'] = flight['departure']['airport'].get('icao', None)\n",
    "            flights_dict['departure_time_local'] = flight['departure'].get('scheduledTimeLocal', None)\n",
    "            flights_dict['airline'] = flight['airline'].get('name', None)\n",
    "            flights_dict['flight_number'] = flight.get('number', None)\n",
    "            flights_dict['data_retrieved_on'] = datetime.now().astimezone(timezone('Europe/Berlin')).date()  \n",
    "        list_for_df.append(flights_dict)\n",
    "    \n",
    "    return pd.DataFrame(list_for_df)"
   ]
  },
  {
   "cell_type": "code",
   "execution_count": 31,
   "metadata": {
    "colab": {
     "base_uri": "https://localhost:8080/",
     "height": 312
    },
    "id": "HHHSrPfmnxEl",
    "outputId": "b90b65ba-a87b-460d-8afc-9dc4c21342fb"
   },
   "outputs": [
    {
     "data": {
      "text/html": [
       "<div>\n",
       "<style scoped>\n",
       "    .dataframe tbody tr th:only-of-type {\n",
       "        vertical-align: middle;\n",
       "    }\n",
       "\n",
       "    .dataframe tbody tr th {\n",
       "        vertical-align: top;\n",
       "    }\n",
       "\n",
       "    .dataframe thead th {\n",
       "        text-align: right;\n",
       "    }\n",
       "</style>\n",
       "<table border=\"1\" class=\"dataframe\">\n",
       "  <thead>\n",
       "    <tr style=\"text-align: right;\">\n",
       "      <th></th>\n",
       "      <th>arrival_time_local</th>\n",
       "      <th>arrival_terminal</th>\n",
       "      <th>departure_city</th>\n",
       "      <th>departure_icao</th>\n",
       "      <th>departure_time_local</th>\n",
       "      <th>airline</th>\n",
       "      <th>flight_number</th>\n",
       "      <th>data_retrieved_on</th>\n",
       "    </tr>\n",
       "  </thead>\n",
       "  <tbody>\n",
       "    <tr>\n",
       "      <th>0</th>\n",
       "      <td>2022-08-28 11:15+02:00</td>\n",
       "      <td>2</td>\n",
       "      <td>Palma De Mallorca</td>\n",
       "      <td>LEPA</td>\n",
       "      <td>2022-08-28 08:45+02:00</td>\n",
       "      <td>TUIfly</td>\n",
       "      <td>X3 2129</td>\n",
       "      <td>2022-08-27</td>\n",
       "    </tr>\n",
       "    <tr>\n",
       "      <th>1</th>\n",
       "      <td>2022-08-28 22:10+02:00</td>\n",
       "      <td>1</td>\n",
       "      <td>London</td>\n",
       "      <td>EGLL</td>\n",
       "      <td>2022-08-28 19:30+01:00</td>\n",
       "      <td>Lufthansa</td>\n",
       "      <td>LH 919</td>\n",
       "      <td>2022-08-27</td>\n",
       "    </tr>\n",
       "  </tbody>\n",
       "</table>\n",
       "</div>"
      ],
      "text/plain": [
       "       arrival_time_local arrival_terminal     departure_city departure_icao  \\\n",
       "0  2022-08-28 11:15+02:00                2  Palma De Mallorca           LEPA   \n",
       "1  2022-08-28 22:10+02:00                1             London           EGLL   \n",
       "\n",
       "     departure_time_local    airline flight_number data_retrieved_on  \n",
       "0  2022-08-28 08:45+02:00     TUIfly       X3 2129        2022-08-27  \n",
       "1  2022-08-28 19:30+01:00  Lufthansa        LH 919        2022-08-27  "
      ]
     },
     "execution_count": 31,
     "metadata": {},
     "output_type": "execute_result"
    }
   ],
   "source": [
    "icaos = ['EDDL', 'EGLL']\n",
    "tomorrows_flight_arrivals(icaos)"
   ]
  },
  {
   "cell_type": "markdown",
   "metadata": {
    "id": "W0G9ZI9MAoMx"
   },
   "source": [
    "# Challenge\n",
    "### 1. Push the weather data extractecd from weather API into mysql table \n",
    "### 2. Test and check your table that the results are there "
   ]
  },
  {
   "cell_type": "code",
   "execution_count": null,
   "metadata": {},
   "outputs": [],
   "source": []
  }
 ],
 "metadata": {
  "colab": {
   "collapsed_sections": [],
   "name": "Copy of flights__making_a_dataframe_example.ipynb",
   "provenance": []
  },
  "kernelspec": {
   "display_name": "Python 3 (ipykernel)",
   "language": "python",
   "name": "python3"
  },
  "language_info": {
   "codemirror_mode": {
    "name": "ipython",
    "version": 3
   },
   "file_extension": ".py",
   "mimetype": "text/x-python",
   "name": "python",
   "nbconvert_exporter": "python",
   "pygments_lexer": "ipython3",
   "version": "3.9.7"
  }
 },
 "nbformat": 4,
 "nbformat_minor": 1
}
