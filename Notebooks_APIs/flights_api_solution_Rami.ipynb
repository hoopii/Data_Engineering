{
 "cells": [
  {
   "cell_type": "markdown",
   "metadata": {},
   "source": [
    "### Get the endpoint access and datafrom API\n",
    "### Get flight information from JSON\n",
    "### Store the information in dataframe"
   ]
  },
  {
   "cell_type": "code",
   "execution_count": 10,
   "metadata": {},
   "outputs": [
    {
     "name": "stdout",
     "output_type": "stream",
     "text": [
      "{\"items\":[{\"icao\":\"EDDB\",\"iata\":\"BER\",\"name\":\"Berlin, Berlin Brandenburg\",\"shortName\":\"Brandenburg\",\"municipalityName\":\"Berlin\",\"location\":{\"lat\":52.35139,\"lon\":13.493889},\"countryCode\":\"DE\"},{\"icao\":\"EDDT\",\"iata\":\"TXL\",\"name\":\"Berlin, Berlin-Tegel\",\"shortName\":\"-Tegel\",\"municipalityName\":\"Berlin\",\"location\":{\"lat\":52.5597,\"lon\":13.287699},\"countryCode\":\"DE\"},{\"icao\":\"KBML\",\"iata\":\"BML\",\"name\":\"Berlin, Berlin Regional\",\"shortName\":\"Regional\",\"municipalityName\":\"Berlin\",\"location\":{\"lat\":44.5754,\"lon\":-71.1759},\"countryCode\":\"US\"}]}\n"
     ]
    }
   ],
   "source": [
    "import requests\n",
    "import pandas as pd\n",
    "\n",
    "url = \"https://aerodatabox.p.rapidapi.com/airports/search/term\"\n",
    "\n",
    "querystring = {\"q\":\"Berlin\",\"limit\":\"10\"}\n",
    "\n",
    "headers = {\n",
    "\t\"X-RapidAPI-Key\": \"2037ef4353msh9bcad6131960761p1b2ed3jsn769599df3407\",\n",
    "\t\"X-RapidAPI-Host\": \"aerodatabox.p.rapidapi.com\"\n",
    "}\n",
    "\n",
    "a = requests.request(\"GET\", url, headers=headers, params=querystring)\n",
    "\n",
    "print(response.text)"
   ]
  },
  {
   "cell_type": "markdown",
   "metadata": {},
   "source": [
    "## Solution 1"
   ]
  },
  {
   "cell_type": "code",
   "execution_count": 11,
   "metadata": {},
   "outputs": [
    {
     "data": {
      "text/html": [
       "<div>\n",
       "<style scoped>\n",
       "    .dataframe tbody tr th:only-of-type {\n",
       "        vertical-align: middle;\n",
       "    }\n",
       "\n",
       "    .dataframe tbody tr th {\n",
       "        vertical-align: top;\n",
       "    }\n",
       "\n",
       "    .dataframe thead th {\n",
       "        text-align: right;\n",
       "    }\n",
       "</style>\n",
       "<table border=\"1\" class=\"dataframe\">\n",
       "  <thead>\n",
       "    <tr style=\"text-align: right;\">\n",
       "      <th></th>\n",
       "      <th>icao</th>\n",
       "      <th>iata</th>\n",
       "      <th>name</th>\n",
       "      <th>shortName</th>\n",
       "      <th>municipalityName</th>\n",
       "      <th>countryCode</th>\n",
       "      <th>location.lat</th>\n",
       "      <th>location.lon</th>\n",
       "    </tr>\n",
       "  </thead>\n",
       "  <tbody>\n",
       "    <tr>\n",
       "      <th>0</th>\n",
       "      <td>EDDB</td>\n",
       "      <td>BER</td>\n",
       "      <td>Berlin, Berlin Brandenburg</td>\n",
       "      <td>Brandenburg</td>\n",
       "      <td>Berlin</td>\n",
       "      <td>DE</td>\n",
       "      <td>52.35139</td>\n",
       "      <td>13.493889</td>\n",
       "    </tr>\n",
       "    <tr>\n",
       "      <th>1</th>\n",
       "      <td>EDDT</td>\n",
       "      <td>TXL</td>\n",
       "      <td>Berlin, Berlin-Tegel</td>\n",
       "      <td>-Tegel</td>\n",
       "      <td>Berlin</td>\n",
       "      <td>DE</td>\n",
       "      <td>52.55970</td>\n",
       "      <td>13.287699</td>\n",
       "    </tr>\n",
       "    <tr>\n",
       "      <th>2</th>\n",
       "      <td>KBML</td>\n",
       "      <td>BML</td>\n",
       "      <td>Berlin, Berlin Regional</td>\n",
       "      <td>Regional</td>\n",
       "      <td>Berlin</td>\n",
       "      <td>US</td>\n",
       "      <td>44.57540</td>\n",
       "      <td>-71.175900</td>\n",
       "    </tr>\n",
       "  </tbody>\n",
       "</table>\n",
       "</div>"
      ],
      "text/plain": [
       "   icao iata                        name    shortName municipalityName  \\\n",
       "0  EDDB  BER  Berlin, Berlin Brandenburg  Brandenburg           Berlin   \n",
       "1  EDDT  TXL        Berlin, Berlin-Tegel       -Tegel           Berlin   \n",
       "2  KBML  BML     Berlin, Berlin Regional     Regional           Berlin   \n",
       "\n",
       "  countryCode  location.lat  location.lon  \n",
       "0          DE      52.35139     13.493889  \n",
       "1          DE      52.55970     13.287699  \n",
       "2          US      44.57540    -71.175900  "
      ]
     },
     "execution_count": 11,
     "metadata": {},
     "output_type": "execute_result"
    }
   ],
   "source": [
    "pd.json_normalize(response.json()['items'])"
   ]
  },
  {
   "cell_type": "markdown",
   "metadata": {},
   "source": [
    "## Solution 2"
   ]
  },
  {
   "cell_type": "code",
   "execution_count": 5,
   "metadata": {},
   "outputs": [],
   "source": [
    "json = response.json()"
   ]
  },
  {
   "cell_type": "code",
   "execution_count": 15,
   "metadata": {},
   "outputs": [],
   "source": [
    "# let's begin the loop\n",
    "\n",
    "data = {\n",
    "    'icao' : [],\n",
    "    'iata' : [],\n",
    "    'name' : [],\n",
    "    'shortName' : [],\n",
    "    'municipalityName' : [],\n",
    "    'countryCode' : [],\n",
    "    'location_lat' : [],\n",
    "    'location_lon' : []\n",
    "\n",
    "}\n",
    "for item in json['items']:\n",
    "    \n",
    "    data['icao'].append(item['name'])\n",
    "    data['iata'].append(item['iata'])\n",
    "    data['name'].append(item['name'])\n",
    "    data['shortName'].append(item['shortName'])\n",
    "    data['municipalityName'].append(item['municipalityName'])\n",
    "    data['countryCode'].append(item['countryCode'])\n",
    "    data['location_lat'].append(item['location']['lat'])\n",
    "    data['location_lon'].append(item['location']['lon'])"
   ]
  },
  {
   "cell_type": "code",
   "execution_count": 16,
   "metadata": {},
   "outputs": [
    {
     "data": {
      "text/html": [
       "<div>\n",
       "<style scoped>\n",
       "    .dataframe tbody tr th:only-of-type {\n",
       "        vertical-align: middle;\n",
       "    }\n",
       "\n",
       "    .dataframe tbody tr th {\n",
       "        vertical-align: top;\n",
       "    }\n",
       "\n",
       "    .dataframe thead th {\n",
       "        text-align: right;\n",
       "    }\n",
       "</style>\n",
       "<table border=\"1\" class=\"dataframe\">\n",
       "  <thead>\n",
       "    <tr style=\"text-align: right;\">\n",
       "      <th></th>\n",
       "      <th>icao</th>\n",
       "      <th>iata</th>\n",
       "      <th>name</th>\n",
       "      <th>shortName</th>\n",
       "      <th>municipalityName</th>\n",
       "      <th>countryCode</th>\n",
       "      <th>location_lat</th>\n",
       "      <th>location_lon</th>\n",
       "    </tr>\n",
       "  </thead>\n",
       "  <tbody>\n",
       "    <tr>\n",
       "      <th>0</th>\n",
       "      <td>Berlin, Berlin Brandenburg</td>\n",
       "      <td>BER</td>\n",
       "      <td>Berlin, Berlin Brandenburg</td>\n",
       "      <td>Brandenburg</td>\n",
       "      <td>Berlin</td>\n",
       "      <td>DE</td>\n",
       "      <td>52.35139</td>\n",
       "      <td>13.493889</td>\n",
       "    </tr>\n",
       "    <tr>\n",
       "      <th>1</th>\n",
       "      <td>Berlin, Berlin-Tegel</td>\n",
       "      <td>TXL</td>\n",
       "      <td>Berlin, Berlin-Tegel</td>\n",
       "      <td>-Tegel</td>\n",
       "      <td>Berlin</td>\n",
       "      <td>DE</td>\n",
       "      <td>52.55970</td>\n",
       "      <td>13.287699</td>\n",
       "    </tr>\n",
       "    <tr>\n",
       "      <th>2</th>\n",
       "      <td>Berlin, Berlin Regional</td>\n",
       "      <td>BML</td>\n",
       "      <td>Berlin, Berlin Regional</td>\n",
       "      <td>Regional</td>\n",
       "      <td>Berlin</td>\n",
       "      <td>US</td>\n",
       "      <td>44.57540</td>\n",
       "      <td>-71.175900</td>\n",
       "    </tr>\n",
       "  </tbody>\n",
       "</table>\n",
       "</div>"
      ],
      "text/plain": [
       "                         icao iata                        name    shortName  \\\n",
       "0  Berlin, Berlin Brandenburg  BER  Berlin, Berlin Brandenburg  Brandenburg   \n",
       "1        Berlin, Berlin-Tegel  TXL        Berlin, Berlin-Tegel       -Tegel   \n",
       "2     Berlin, Berlin Regional  BML     Berlin, Berlin Regional     Regional   \n",
       "\n",
       "  municipalityName countryCode  location_lat  location_lon  \n",
       "0           Berlin          DE      52.35139     13.493889  \n",
       "1           Berlin          DE      52.55970     13.287699  \n",
       "2           Berlin          US      44.57540    -71.175900  "
      ]
     },
     "execution_count": 16,
     "metadata": {},
     "output_type": "execute_result"
    }
   ],
   "source": [
    "pd.DataFrame(data)"
   ]
  },
  {
   "cell_type": "markdown",
   "metadata": {},
   "source": [
    "# Challenge\n",
    "### 1. Push the weather data extractecd from weather API into mysql table \n",
    "### 2. Test and check your table that the results are there "
   ]
  },
  {
   "cell_type": "code",
   "execution_count": null,
   "metadata": {},
   "outputs": [],
   "source": []
  }
 ],
 "metadata": {
  "kernelspec": {
   "display_name": "Python 3 (ipykernel)",
   "language": "python",
   "name": "python3"
  },
  "language_info": {
   "codemirror_mode": {
    "name": "ipython",
    "version": 3
   },
   "file_extension": ".py",
   "mimetype": "text/x-python",
   "name": "python",
   "nbconvert_exporter": "python",
   "pygments_lexer": "ipython3",
   "version": "3.9.7"
  }
 },
 "nbformat": 4,
 "nbformat_minor": 4
}
