{
 "cells": [
  {
   "cell_type": "markdown",
   "metadata": {
    "id": "szGlz4Xbpa78"
   },
   "source": [
    "### Get endpoint access and data from API"
   ]
  },
  {
   "cell_type": "code",
   "execution_count": 3,
   "metadata": {
    "executionInfo": {
     "elapsed": 1371,
     "status": "ok",
     "timestamp": 1660754816161,
     "user": {
      "displayName": "René Markovits",
      "userId": "16956275540816825770"
     },
     "user_tz": -120
    },
    "id": "hWK4hYE1xo5s"
   },
   "outputs": [],
   "source": [
    "import pandas as pd\n",
    "from datetime import datetime\n",
    "import pytz\n",
    "import requests"
   ]
  },
  {
   "cell_type": "code",
   "execution_count": 4,
   "metadata": {
    "colab": {
     "base_uri": "https://localhost:8080/"
    },
    "executionInfo": {
     "elapsed": 1142,
     "status": "ok",
     "timestamp": 1660754824402,
     "user": {
      "displayName": "René Markovits",
      "userId": "16956275540816825770"
     },
     "user_tz": -120
    },
    "id": "sX5fAsUHkESW",
    "outputId": "28229512-1103-4b0e-e43c-0013cdba004c"
   },
   "outputs": [
    {
     "name": "stdout",
     "output_type": "stream",
     "text": [
      "{\"items\":[{\"icao\":\"EDDB\",\"iata\":\"BER\",\"name\":\"Berlin, Berlin Brandenburg\",\"shortName\":\"Brandenburg\",\"municipalityName\":\"Berlin\",\"location\":{\"lat\":52.35139,\"lon\":13.493889},\"countryCode\":\"DE\"},{\"icao\":\"EDDT\",\"iata\":\"TXL\",\"name\":\"Berlin, Berlin-Tegel\",\"shortName\":\"-Tegel\",\"municipalityName\":\"Berlin\",\"location\":{\"lat\":52.5597,\"lon\":13.287699},\"countryCode\":\"DE\"},{\"icao\":\"KBML\",\"iata\":\"BML\",\"name\":\"Berlin, Berlin Regional\",\"shortName\":\"Regional\",\"municipalityName\":\"Berlin\",\"location\":{\"lat\":44.5754,\"lon\":-71.1759},\"countryCode\":\"US\"}]}\n"
     ]
    }
   ],
   "source": [
    "url = \"https://aerodatabox.p.rapidapi.com/airports/search/term\"\n",
    "\n",
    "querystring = {\"q\":\"Berlin\",\"limit\":\"10\"}\n",
    "\n",
    "headers = {\n",
    "\t\"X-RapidAPI-Key\": \"41ff370a44mshbe20330f78fd706p154d9ajsnaa91e9e7fba0\",\n",
    "\t\"X-RapidAPI-Host\": \"aerodatabox.p.rapidapi.com\"\n",
    "}\n",
    "\n",
    "response = requests.request(\"GET\", url, headers=headers, params=querystring)\n",
    "\n",
    "print(response.text)\n",
    "\n"
   ]
  },
  {
   "cell_type": "code",
   "execution_count": 5,
   "metadata": {
    "colab": {
     "base_uri": "https://localhost:8080/"
    },
    "executionInfo": {
     "elapsed": 288,
     "status": "ok",
     "timestamp": 1660754828702,
     "user": {
      "displayName": "René Markovits",
      "userId": "16956275540816825770"
     },
     "user_tz": -120
    },
    "id": "e_ft_5dVnqii",
    "outputId": "38e1ce27-e6ae-493b-f933-ff0b3097a2d3"
   },
   "outputs": [
    {
     "data": {
      "text/plain": [
       "{'items': [{'icao': 'EDDB',\n",
       "   'iata': 'BER',\n",
       "   'name': 'Berlin, Berlin Brandenburg',\n",
       "   'shortName': 'Brandenburg',\n",
       "   'municipalityName': 'Berlin',\n",
       "   'location': {'lat': 52.35139, 'lon': 13.493889},\n",
       "   'countryCode': 'DE'},\n",
       "  {'icao': 'EDDT',\n",
       "   'iata': 'TXL',\n",
       "   'name': 'Berlin, Berlin-Tegel',\n",
       "   'shortName': '-Tegel',\n",
       "   'municipalityName': 'Berlin',\n",
       "   'location': {'lat': 52.5597, 'lon': 13.287699},\n",
       "   'countryCode': 'DE'},\n",
       "  {'icao': 'KBML',\n",
       "   'iata': 'BML',\n",
       "   'name': 'Berlin, Berlin Regional',\n",
       "   'shortName': 'Regional',\n",
       "   'municipalityName': 'Berlin',\n",
       "   'location': {'lat': 44.5754, 'lon': -71.1759},\n",
       "   'countryCode': 'US'}]}"
      ]
     },
     "execution_count": 5,
     "metadata": {},
     "output_type": "execute_result"
    }
   ],
   "source": [
    "json = response.json()\n",
    "json"
   ]
  },
  {
   "cell_type": "code",
   "execution_count": 6,
   "metadata": {
    "colab": {
     "base_uri": "https://localhost:8080/"
    },
    "executionInfo": {
     "elapsed": 270,
     "status": "ok",
     "timestamp": 1660754832373,
     "user": {
      "displayName": "René Markovits",
      "userId": "16956275540816825770"
     },
     "user_tz": -120
    },
    "id": "CktKnrN4sYpk",
    "outputId": "1b316cb3-c3bb-44d4-c073-e07e91acd63e"
   },
   "outputs": [
    {
     "data": {
      "text/plain": [
       "datetime.datetime(2022, 8, 20, 12, 54, 43, 853158, tzinfo=<DstTzInfo 'Europe/Berlin' CEST+2:00:00 DST>)"
      ]
     },
     "execution_count": 6,
     "metadata": {},
     "output_type": "execute_result"
    }
   ],
   "source": [
    "tz = pytz.timezone('Europe/Berlin')\n",
    "now = datetime.now().astimezone(tz)\n",
    "\n",
    "now"
   ]
  },
  {
   "cell_type": "markdown",
   "metadata": {
    "id": "Cf5DpUyCpg5F"
   },
   "source": [
    "### Get flight information from JSON"
   ]
  },
  {
   "cell_type": "code",
   "execution_count": 7,
   "metadata": {
    "id": "0xHmotMMsbpa"
   },
   "outputs": [],
   "source": [
    "flights_dict = {'icao' : [],\n",
    "                'name': [],\n",
    "                'iata': [],\n",
    "                'municipalityName': [],\n",
    "                'location_lat': [],\n",
    "                'location_lon': [],\n",
    "                'Countrycode': [],\n",
    "                'information_retrieved_at': []}"
   ]
  },
  {
   "cell_type": "code",
   "execution_count": 8,
   "metadata": {
    "id": "QNPPH-CLuBVz"
   },
   "outputs": [],
   "source": [
    "for i in json['items']:\n",
    "  flights_dict['icao'].append(i['icao'])\n",
    "  flights_dict['iata'].append(i['iata'])\n",
    "  flights_dict['name'].append(i['name'])\n",
    "  flights_dict['municipalityName'].append(i['municipalityName'])\n",
    "  flights_dict['location_lat'].append(i['location']['lat'])\n",
    "  flights_dict['location_lon'].append(i['location']['lon'])\n",
    "  flights_dict['Countrycode'].append(i['countryCode'])\n",
    "  flights_dict['information_retrieved_at'].append(now.strftime(\"%d/%m/%Y %H:%M:%S\"))\n",
    "  \n",
    "  #flights_dict['outlook'].append(i['weather'][0]['main'])\n",
    "  #weather_dict['temperature'].append(i['main']['temp'])\n",
    "  #weather_dict['temperature_feels_like'].append(i['main']['feels_like'])\n",
    "  #weather_dict['clouds'].append(i['clouds']['all'])"
   ]
  },
  {
   "cell_type": "code",
   "execution_count": 9,
   "metadata": {
    "colab": {
     "base_uri": "https://localhost:8080/"
    },
    "executionInfo": {
     "elapsed": 16,
     "status": "ok",
     "timestamp": 1660588495963,
     "user": {
      "displayName": "René Markovits",
      "userId": "16956275540816825770"
     },
     "user_tz": -120
    },
    "id": "kniGc_70wpQv",
    "outputId": "3534d712-8b13-41c4-fc1e-712c98e073e2"
   },
   "outputs": [
    {
     "data": {
      "text/plain": [
       "{'icao': ['EDDB', 'EDDT', 'KBML'],\n",
       " 'name': ['Berlin, Berlin Brandenburg',\n",
       "  'Berlin, Berlin-Tegel',\n",
       "  'Berlin, Berlin Regional'],\n",
       " 'iata': ['BER', 'TXL', 'BML'],\n",
       " 'municipalityName': ['Berlin', 'Berlin', 'Berlin'],\n",
       " 'location_lat': [52.35139, 52.5597, 44.5754],\n",
       " 'location_lon': [13.493889, 13.287699, -71.1759],\n",
       " 'Countrycode': ['DE', 'DE', 'US'],\n",
       " 'information_retrieved_at': ['20/08/2022 12:54:43',\n",
       "  '20/08/2022 12:54:43',\n",
       "  '20/08/2022 12:54:43']}"
      ]
     },
     "execution_count": 9,
     "metadata": {},
     "output_type": "execute_result"
    }
   ],
   "source": [
    "flights_dict"
   ]
  },
  {
   "cell_type": "markdown",
   "metadata": {
    "id": "I65tm7-upuqH"
   },
   "source": [
    "### Store the information in dataframe"
   ]
  },
  {
   "cell_type": "code",
   "execution_count": 10,
   "metadata": {
    "colab": {
     "base_uri": "https://localhost:8080/",
     "height": 143
    },
    "executionInfo": {
     "elapsed": 282,
     "status": "ok",
     "timestamp": 1660588553259,
     "user": {
      "displayName": "René Markovits",
      "userId": "16956275540816825770"
     },
     "user_tz": -120
    },
    "id": "hBAEtPJ2ydew",
    "outputId": "6f1bf1dd-7dae-40b3-d78e-9b98abfe15d4"
   },
   "outputs": [
    {
     "data": {
      "text/html": [
       "<div>\n",
       "<style scoped>\n",
       "    .dataframe tbody tr th:only-of-type {\n",
       "        vertical-align: middle;\n",
       "    }\n",
       "\n",
       "    .dataframe tbody tr th {\n",
       "        vertical-align: top;\n",
       "    }\n",
       "\n",
       "    .dataframe thead th {\n",
       "        text-align: right;\n",
       "    }\n",
       "</style>\n",
       "<table border=\"1\" class=\"dataframe\">\n",
       "  <thead>\n",
       "    <tr style=\"text-align: right;\">\n",
       "      <th></th>\n",
       "      <th>icao</th>\n",
       "      <th>name</th>\n",
       "      <th>iata</th>\n",
       "      <th>municipalityName</th>\n",
       "      <th>location_lat</th>\n",
       "      <th>location_lon</th>\n",
       "      <th>Countrycode</th>\n",
       "      <th>information_retrieved_at</th>\n",
       "    </tr>\n",
       "  </thead>\n",
       "  <tbody>\n",
       "    <tr>\n",
       "      <th>0</th>\n",
       "      <td>EDDB</td>\n",
       "      <td>Berlin, Berlin Brandenburg</td>\n",
       "      <td>BER</td>\n",
       "      <td>Berlin</td>\n",
       "      <td>52.35139</td>\n",
       "      <td>13.493889</td>\n",
       "      <td>DE</td>\n",
       "      <td>20/08/2022 12:54:43</td>\n",
       "    </tr>\n",
       "    <tr>\n",
       "      <th>1</th>\n",
       "      <td>EDDT</td>\n",
       "      <td>Berlin, Berlin-Tegel</td>\n",
       "      <td>TXL</td>\n",
       "      <td>Berlin</td>\n",
       "      <td>52.55970</td>\n",
       "      <td>13.287699</td>\n",
       "      <td>DE</td>\n",
       "      <td>20/08/2022 12:54:43</td>\n",
       "    </tr>\n",
       "    <tr>\n",
       "      <th>2</th>\n",
       "      <td>KBML</td>\n",
       "      <td>Berlin, Berlin Regional</td>\n",
       "      <td>BML</td>\n",
       "      <td>Berlin</td>\n",
       "      <td>44.57540</td>\n",
       "      <td>-71.175900</td>\n",
       "      <td>US</td>\n",
       "      <td>20/08/2022 12:54:43</td>\n",
       "    </tr>\n",
       "  </tbody>\n",
       "</table>\n",
       "</div>"
      ],
      "text/plain": [
       "   icao                        name iata municipalityName  location_lat  \\\n",
       "0  EDDB  Berlin, Berlin Brandenburg  BER           Berlin      52.35139   \n",
       "1  EDDT        Berlin, Berlin-Tegel  TXL           Berlin      52.55970   \n",
       "2  KBML     Berlin, Berlin Regional  BML           Berlin      44.57540   \n",
       "\n",
       "   location_lon Countrycode information_retrieved_at  \n",
       "0     13.493889          DE      20/08/2022 12:54:43  \n",
       "1     13.287699          DE      20/08/2022 12:54:43  \n",
       "2    -71.175900          US      20/08/2022 12:54:43  "
      ]
     },
     "execution_count": 10,
     "metadata": {},
     "output_type": "execute_result"
    }
   ],
   "source": [
    "flights_df = pd.DataFrame(flights_dict)\n",
    "flights_df"
   ]
  },
  {
   "cell_type": "code",
   "execution_count": 11,
   "metadata": {},
   "outputs": [
    {
     "name": "stdout",
     "output_type": "stream",
     "text": [
      "<class 'pandas.core.frame.DataFrame'>\n",
      "RangeIndex: 3 entries, 0 to 2\n",
      "Data columns (total 8 columns):\n",
      " #   Column                    Non-Null Count  Dtype  \n",
      "---  ------                    --------------  -----  \n",
      " 0   icao                      3 non-null      object \n",
      " 1   name                      3 non-null      object \n",
      " 2   iata                      3 non-null      object \n",
      " 3   municipalityName          3 non-null      object \n",
      " 4   location_lat              3 non-null      float64\n",
      " 5   location_lon              3 non-null      float64\n",
      " 6   Countrycode               3 non-null      object \n",
      " 7   information_retrieved_at  3 non-null      object \n",
      "dtypes: float64(2), object(6)\n",
      "memory usage: 320.0+ bytes\n"
     ]
    }
   ],
   "source": [
    "flights_df.info()"
   ]
  },
  {
   "cell_type": "code",
   "execution_count": null,
   "metadata": {},
   "outputs": [],
   "source": [
    "url = \"https://aerodatabox.p.rapidapi.com/flights/airports/icao/EHAM/2022-08-15T08:00/2022-08-15T20:00\"\n",
    "\n",
    "querystring = {\"withLeg\":\"true\",\"direction\":\"Arrival\",\"withCancelled\":\"true\",\"withCodeshared\":\"true\",\"withCargo\":\"true\",\"withPrivate\":\"true\",\"withLocation\":\"false\"}\n",
    "\n",
    "headers = {\n",
    "\t\"X-RapidAPI-Key\": \"41ff370a44mshbe20330f78fd706p154d9ajsnaa91e9e7fba0\",\n",
    "\t\"X-RapidAPI-Host\": \"aerodatabox.p.rapidapi.com\"\n",
    "}\n",
    "\n",
    "response = requests.request(\"GET\", url, headers=headers, params=querystring)"
   ]
  },
  {
   "cell_type": "code",
   "execution_count": null,
   "metadata": {},
   "outputs": [],
   "source": []
  }
 ],
 "metadata": {
  "colab": {
   "authorship_tag": "ABX9TyOQ6okYGMO/A65uNBICNBG6",
   "collapsed_sections": [],
   "name": "flights_api_solution_Rene.ipynb",
   "provenance": []
  },
  "kernelspec": {
   "display_name": "Python 3 (ipykernel)",
   "language": "python",
   "name": "python3"
  },
  "language_info": {
   "codemirror_mode": {
    "name": "ipython",
    "version": 3
   },
   "file_extension": ".py",
   "mimetype": "text/x-python",
   "name": "python",
   "nbconvert_exporter": "python",
   "pygments_lexer": "ipython3",
   "version": "3.9.7"
  }
 },
 "nbformat": 4,
 "nbformat_minor": 1
}
